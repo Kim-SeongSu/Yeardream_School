{
 "cells": [
  {
   "cell_type": "code",
   "execution_count": 2,
   "id": "cb34059f",
   "metadata": {},
   "outputs": [
    {
     "name": "stdout",
     "output_type": "stream",
     "text": [
      "Collecting lightgbm\n",
      "  Using cached lightgbm-3.3.2.tar.gz (1.5 MB)\n",
      "  Preparing metadata (setup.py) ... \u001b[?25ldone\n",
      "\u001b[?25hRequirement already satisfied: wheel in /Users/krc/downloads/yes/lib/python3.9/site-packages (from lightgbm) (0.37.1)\n",
      "Requirement already satisfied: numpy in /Users/krc/downloads/yes/lib/python3.9/site-packages (from lightgbm) (1.22.4)\n",
      "Requirement already satisfied: scipy in /Users/krc/downloads/yes/lib/python3.9/site-packages (from lightgbm) (1.8.1)\n",
      "Requirement already satisfied: scikit-learn!=0.22.0 in /Users/krc/downloads/yes/lib/python3.9/site-packages (from lightgbm) (1.1.1)\n",
      "Requirement already satisfied: threadpoolctl>=2.0.0 in /Users/krc/downloads/yes/lib/python3.9/site-packages (from scikit-learn!=0.22.0->lightgbm) (3.1.0)\n",
      "Requirement already satisfied: joblib>=1.0.0 in /Users/krc/downloads/yes/lib/python3.9/site-packages (from scikit-learn!=0.22.0->lightgbm) (1.1.0)\n",
      "Building wheels for collected packages: lightgbm\n",
      "  Building wheel for lightgbm (setup.py) ... \u001b[?25ldone\n",
      "\u001b[?25h  Created wheel for lightgbm: filename=lightgbm-3.3.2-py3-none-any.whl size=1076856 sha256=c03876fb57c89fc8b51c25e4394f714bfaaba6c3e6c3b22bac6bd903ce6c4375\n",
      "  Stored in directory: /Users/krc/Library/Caches/pip/wheels/ff/26/5f/2a30250ade19f331dfb9c629cc7b7325665878821437e4275c\n",
      "Successfully built lightgbm\n",
      "Installing collected packages: lightgbm\n",
      "Successfully installed lightgbm-3.3.2\n"
     ]
    }
   ],
   "source": [
    "!pip install lightgbm"
   ]
  },
  {
   "cell_type": "code",
   "execution_count": 3,
   "id": "5aa67453",
   "metadata": {},
   "outputs": [],
   "source": [
    "import pandas as pd\n",
    "import numpy as np\n",
    "from sklearn import metrics\n",
    "from sklearn.feature_selection import r_regression\n",
    "from sklearn.model_selection import train_test_split\n",
    "from lightgbm.sklearn import LGBMRegressor\n",
    "from sklearn.metrics import mean_absolute_error"
   ]
  },
  {
   "cell_type": "code",
   "execution_count": 4,
   "id": "24df0c7a",
   "metadata": {},
   "outputs": [],
   "source": [
    "base_path = 'data/'\n",
    "\n",
    "def load_dataset(csv_name):\n",
    "   try:\n",
    "     df = pd.read_csv(base_path+csv_name)\n",
    "   except: \n",
    "     raise Exception(\"csv파일명을 입력하세요!\")\n",
    "   return df"
   ]
  },
  {
   "cell_type": "code",
   "execution_count": 12,
   "id": "27b74a71",
   "metadata": {},
   "outputs": [],
   "source": [
    "def preprocess(df):\n",
    "    df = __delete_nan_data(df)\n",
    "    df =__remove_outlier(df)\n",
    "    #new_col_name = \"match_types\"\n",
    "    #df[new_col_name] = __convert_match_type_column(df,\"matchType\")\n",
    "    #df = __change_nan_points(df)\n",
    "    #df = __one_hot_encode_data_frame(df, new_col_name)\n",
    "    df = __select_features(df)\n",
    "    return df\n",
    "\n",
    "  \n",
    "def __delete_nan_data(df):\n",
    "    return df.dropna()\n",
    "\n",
    "  \n",
    "def __convert_match_type_column(prepro_df,encoding_feature):\n",
    "    encoded = prepro_df[encoding_feature].agg(preprocessing_match_type)\n",
    "    return encoded\n",
    "\n",
    "  \n",
    "def preprocessing_match_type(match_type):\n",
    "    standard_matches = [\"solo\", \"duo\", \"squad\", \"solo-fpp\", \"duo-fpp\", \"squad-fpp\"]\n",
    "    if match_type in standard_matches:\n",
    "        return match_type\n",
    "    else:\n",
    "        return \"others\" \n",
    "\n",
    "      \n",
    "def __change_nan_points(df):\n",
    "    kill_rank_win_points = [\"killPoints\", \"rankPoints\", \"winPoints\"]\n",
    "    match_types_list = list(df.match_types.unique())\n",
    "    for col in kill_rank_win_points:\n",
    "        if col != \"rankPoints\":\n",
    "            cond0 = df[col] == 0\n",
    "            cond1 = df[col] != 0\n",
    "        else:\n",
    "            cond0 = df[col] == -1\n",
    "            cond1 = df[col] != -1\n",
    "        for m_type in match_types_list:\n",
    "            cond2 = df.match_types == m_type\n",
    "            mean = df[cond1 & cond2][col].mean()\n",
    "            std = df[cond1 & cond2][col].std()\n",
    "            size = df[cond0 & cond2][col].count()\n",
    "            if m_type != 'others' or col == \"rankPoints\":\n",
    "                rand_points = np.random.randint(mean-std, mean+std, size=size)\n",
    "            else:\n",
    "                rand_points = np.array([mean]*size)\n",
    "            df[col].loc[cond0 & cond2] = rand_points\n",
    "    return df\n",
    "\n",
    "  \n",
    "def __one_hot_encode_data_frame(df, encoding_feature):\n",
    "    df = pd.get_dummies(df, columns=[encoding_feature])\n",
    "    return df\n",
    "\n",
    "\n",
    "def __select_features(df):\n",
    "    main_columns = [\"winPlacePerc\", \"walkDistance\", \"killPlace\", \"boosts\", \"heals\", \"kills\", \"killStreaks\", \"longestKill\", \"rideDistance\"]\n",
    "    #main_columns = [\"winPlacePerc\", \"walkDistance\", \"boosts\", \"heals\", \"kills\", \"killStreaks\", \"longestKill\", \"rideDistance\"]\n",
    "    sub_columns = [\"weaponsAcquired\", \"damageDealt\", \"headshotKills\", \"assists\", \"DBNOs\"]\n",
    "    others_columns = [\"maxPlace\",\"numGroups\",\"revives\",\"roadKills\",\"swimDistance\",\"teamKills\",\"vehicleDestroys\",\"revives\",\"weaponsAcquired\"]\n",
    "    #main_columns = [\"winPlacePerc\", \"walkDistance\", \"boosts\", \"weaponsAcquired\"]\n",
    "    #kill_columns = [\"kills\", \"damageDealt\"]\n",
    "    match_type_columns = df.columns[df.columns.str.contains(\"match_types\")]\n",
    "    #deleted_columns = df[[\"Id\",\"groupId\",\"matchId\"]]\n",
    "    #deleted_columns = df[[\"Id\",\"groupId\",\"matchId\",\"killPlace\"]]\n",
    "    #deleted_columns = df[[\"Id\",\"groupId\",\"matchId\",\"matchType\",\"killPlace\"]]\n",
    "    deleted_columns = df[[\"Id\",\"groupId\",\"matchId\",\"matchType\",\"killPoints\",\"matchDuration\",\"maxPlace\",\"numGroups\",\"rankPoints\",\"teamKills\",\"winPoints\",\"weaponsAcquired\",\"revives\",\"roadKills\"]]\n",
    "    #deleted_columns = list(set(df.columns)-set(main_columns))\n",
    "    #deleted_columns = list(set(df.columns)-set(main_columns)-set(sub_columns))\n",
    "    #deleted_columns = list(set(df.columns)-set(main_columns)-set(match_type_columns))\n",
    "    #deleted_columns = list(set(df.columns)-set(main_columns)-set(sub_columns)-set(match_type_columns))\n",
    "    #deleted_columns = list(set(df.columns)-set(main_columns)-set(sub_columns)-set(match_type_columns)-set(others_columns))\n",
    "    return df.drop(columns=deleted_columns)\n",
    "\n",
    "\n",
    "def __remove_outlier(df):\n",
    "    df = df[(((df['winPlacePerc']+0.5) / (df['walkDistance'])) > 1/13000) & (df['walkDistance']>1) ]\n",
    "    df = df[((df['winPlacePerc'] / (df['killPlace']-103)) > -1/42)]\n",
    "    df = df[((df['winPlacePerc']+ 0.51 ) / (df['boosts'])) > 1/17 ]\n",
    "    df = df[((df['winPlacePerc']+0.5 ) / (df['heals'])) > 1/50 ]\n",
    "    df = df[((df['winPlacePerc']+0.8 ) / (df['kills'])) > 1/30]\n",
    "    df = df[((df['winPlacePerc']+1.7 ) / (df['killStreaks'])) > 1/6]\n",
    "    df = df[((df['winPlacePerc']+ 0.75) / (df['longestKill'])) > 1/600]\n",
    "    df = df[((df['winPlacePerc']+0.73 ) / (df['rideDistance'])) > 1/24000]\n",
    "    df = df[((df['winPlacePerc']+ 3.8 ) / (df['weaponsAcquired'])) > 1/20 ]\n",
    "    df = df[((df['winPlacePerc']+ 0.25 ) / (df['headshotKills'])) > 1/40 ]\n",
    "    df = df[((df['winPlacePerc']+ 2.8 ) / (df['assists'])) > 1/5 ]\n",
    "    df = df[((df['winPlacePerc']+ 1.25 ) / (df['DBNOs'])) > 1/16 ]\n",
    "    return df"
   ]
  },
  {
   "cell_type": "code",
   "execution_count": 13,
   "id": "399e45d6",
   "metadata": {},
   "outputs": [],
   "source": [
    "def learn_ann_model(df):\n",
    "  X_train, X_val, y_train, y_val = __divide_training_data(df)\n",
    "  #LGBM_reg = LGBMRegressor().fit(X_train,y_train)\n",
    "  LGBM_reg = LGBMRegressor(\n",
    "    max_depth=11,\n",
    "    num_leaves=150,\n",
    "    colsample_bytree=1,\n",
    "    learning_rate=0.1,\n",
    "    n_estimators=500\n",
    "  ).fit(X_train,y_train)\n",
    "  __validate_model(LGBM_reg,X_val,y_val)\n",
    "  return LGBM_reg\n",
    "\n",
    "\n",
    "def __divide_training_data(df):\n",
    "  X = df.drop(['winPlacePerc'],axis=1)\n",
    "  y = df['winPlacePerc']\n",
    "  return train_test_split(X, y, test_size = 0.2, random_state=42)\n",
    "\n",
    "\n",
    "def __validate_model(model,X_val, y_val):\n",
    "  pred_val = model.predict(X_val)\n",
    "  print(mean_absolute_error(y_val, pred_val))"
   ]
  },
  {
   "cell_type": "code",
   "execution_count": 14,
   "id": "a86a06d9",
   "metadata": {},
   "outputs": [
    {
     "name": "stdout",
     "output_type": "stream",
     "text": [
      "0.07119903487502721\n"
     ]
    }
   ],
   "source": [
    "df_train = load_dataset(\"train_V2.csv\")\n",
    "#print(df_train)\n",
    "#print(df_train.columns)\n",
    "df_train = preprocess(df_train)\n",
    "#print(df_train)\n",
    "#print(df_train.columns)\n",
    "model =learn_ann_model(df_train)\n",
    "\n",
    "#X_test = data_io.load_dataset(\"test_V2.csv\")"
   ]
  },
  {
   "cell_type": "markdown",
   "id": "76e25cb2",
   "metadata": {},
   "source": [
    "기존 아웃라이어까지 + killplace: 0.062273283827051176\n",
    "\n"
   ]
  }
 ],
 "metadata": {
  "kernelspec": {
   "display_name": "Python 3 (ipykernel)",
   "language": "python",
   "name": "python3"
  },
  "language_info": {
   "codemirror_mode": {
    "name": "ipython",
    "version": 3
   },
   "file_extension": ".py",
   "mimetype": "text/x-python",
   "name": "python",
   "nbconvert_exporter": "python",
   "pygments_lexer": "ipython3",
   "version": "3.9.10"
  }
 },
 "nbformat": 4,
 "nbformat_minor": 5
}
